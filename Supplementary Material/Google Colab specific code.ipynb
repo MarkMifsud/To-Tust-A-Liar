{
 "cells": [
  {
   "cell_type": "markdown",
   "metadata": {
    "colab_type": "text",
    "id": "RUwzFF2Bzd6s"
   },
   "source": [
    "**Add the following cells in any Google Colab notebook to be able to run all transformer-related code in this repo.\n",
    "This should enable Cuda Drivers, nVidia Apex and Pytorch in Colab as well as mount a Google Drive so that datasets and other files can be read/written.**\n",
    "\n",
    "In Google Colab go to the Edit Menu >> Notebook Settings and make sure that GPU is enabled. Running transformers on CPU is painfully slow.\n",
    "NOTE:  It is up to Google what GPU is made available if any."
   ]
  },
  {
   "cell_type": "code",
   "execution_count": 0,
   "metadata": {
    "colab": {},
    "colab_type": "code",
    "id": "-aXYYjcqIBnO"
   },
   "outputs": [],
   "source": [
    "!pip install torch===1.4.0 torchvision===0.5.0 -f https://download.pytorch.org/whl/torch_stable.html"
   ]
  },
  {
   "cell_type": "code",
   "execution_count": 0,
   "metadata": {
    "colab": {},
    "colab_type": "code",
    "id": "-tgoj6jJK1Ly"
   },
   "outputs": [],
   "source": [
    "# mounting Google Drive to read/write files\n",
    "\n",
    "from google.colab import drive\n",
    "drive.mount(\"/GD\")"
   ]
  },
  {
   "cell_type": "code",
   "execution_count": 0,
   "metadata": {
    "colab": {},
    "colab_type": "code",
    "id": "MNYPS-47x84Z"
   },
   "outputs": [],
   "source": [
    "# test that files are being read from your Google Drive\n",
    "\n",
    "# replace the example directory and example file-name.tsv with an actual file that exists\n",
    "\n",
    "import pandas as pd\n",
    "test=pd.read_csv('/GD/My Drive/example directory/example file-name.tsv')\n",
    "test.head()\n"
   ]
  },
  {
   "cell_type": "code",
   "execution_count": 0,
   "metadata": {
    "colab": {},
    "colab_type": "code",
    "id": "1qztdqtPOLoE"
   },
   "outputs": [],
   "source": [
    "# installing nVidia apex as shown here: https://stackoverflow.com/questions/57284345/how-to-install-nvidia-apex-on-google-colab \n",
    "\n",
    "# we do this by writing the Linux shell script into a file called setup.sh and run it in the next cell\n",
    "\n",
    "%%writefile setup.sh\n",
    "\n",
    "git clone https://github.com/NVIDIA/apex\n",
    "cd apex\n",
    "pip install -v --no-cache-dir ./"
   ]
  },
  {
   "cell_type": "code",
   "execution_count": 0,
   "metadata": {
    "colab": {},
    "colab_type": "code",
    "id": "oVT7PTy5C7Za"
   },
   "outputs": [],
   "source": [
    "!sh setup.sh"
   ]
  },
  {
   "cell_type": "code",
   "execution_count": 0,
   "metadata": {
    "colab": {},
    "colab_type": "code",
    "id": "6VTzU6XKKf9e"
   },
   "outputs": [],
   "source": [
    "!pip install simpletransformers"
   ]
  },
  {
   "cell_type": "markdown",
   "metadata": {
    "colab_type": "text",
    "id": "5mO2SZKEy-2o"
   },
   "source": [
    "**If any libraries can't be loaded, add a !pip install comand for them above this cell**"
   ]
  },
  {
   "cell_type": "code",
   "execution_count": null,
   "metadata": {},
   "outputs": [],
   "source": []
  }
 ],
 "metadata": {
  "accelerator": "GPU",
  "colab": {
   "collapsed_sections": [],
   "name": "BERT-base-test1.ipynb",
   "provenance": []
  },
  "kernelspec": {
   "display_name": "Python 3",
   "language": "python",
   "name": "python3"
  },
  "language_info": {
   "codemirror_mode": {
    "name": "ipython",
    "version": 3
   },
   "file_extension": ".py",
   "mimetype": "text/x-python",
   "name": "python",
   "nbconvert_exporter": "python",
   "pygments_lexer": "ipython3",
   "version": "3.8.1"
  }
 },
 "nbformat": 4,
 "nbformat_minor": 1
}
